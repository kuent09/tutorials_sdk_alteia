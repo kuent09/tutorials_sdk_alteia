{
 "cells": [
  {
   "cell_type": "markdown",
   "metadata": {},
   "source": [
    "# Datasets\n",
    "\n",
    "In this notebook, you will be guided to :\n",
    "- Search your **project** and describe it\n",
    "- Search your **mission** and describe it\n",
    "- Search your **datasets** and describe them\n",
    "- Display the particularity of vector dataset"
   ]
  },
  {
   "cell_type": "markdown",
   "metadata": {},
   "source": [
    "#### You may execute this notebook one cell after the other with `Shift + Enter`"
   ]
  },
  {
   "cell_type": "markdown",
   "metadata": {},
   "source": [
    "For more options, explore `Cell` in the top menu bar, or read a [tutorial](https://www.dataquest.io/blog/jupyter-notebook-tutorial/)"
   ]
  },
  {
   "cell_type": "code",
   "execution_count": 1,
   "metadata": {},
   "outputs": [],
   "source": [
    "import os\n",
    "import alteia"
   ]
  },
  {
   "cell_type": "code",
   "execution_count": 2,
   "metadata": {},
   "outputs": [],
   "source": [
    "import getpass\n",
    "platform_url = 'https://app.alteia.com'\n",
    "login = input('Enter your email ')\n",
    "password = getpass.getpass('Enter your password ')"
   ]
  },
  {
   "cell_type": "code",
   "execution_count": 3,
   "metadata": {},
   "outputs": [],
   "source": [
    "sdk = alteia.SDK(url=platform_url, user=login, password=password)"
   ]
  },
  {
   "cell_type": "markdown",
   "metadata": {},
   "source": [
    "# Exercices"
   ]
  },
  {
   "cell_type": "markdown",
   "metadata": {},
   "source": [
    "### Search your project"
   ]
  },
  {
   "cell_type": "code",
   "execution_count": 48,
   "metadata": {},
   "outputs": [],
   "source": [
    "company_id = '65a4fcd0586dc233a4f5d8ee'\n",
    "project_name = '' ### Add your project name\n",
    "lst_proj = sdk.projects.search(\n",
    "    filter={\n",
    "        'company': {'$eq': company_id},\n",
    "        'name': {'$eq': project_name}\n",
    "    }\n",
    ")"
   ]
  },
  {
   "cell_type": "markdown",
   "metadata": {},
   "source": [
    "### Describe it and search creation date"
   ]
  },
  {
   "cell_type": "code",
   "execution_count": null,
   "metadata": {},
   "outputs": [],
   "source": [
    "my_project = lst_proj[0]\n",
    "my_project.__dict__\n",
    "my_project.created"
   ]
  },
  {
   "cell_type": "markdown",
   "metadata": {},
   "source": [
    "### Search mission in your project"
   ]
  },
  {
   "cell_type": "code",
   "execution_count": null,
   "metadata": {},
   "outputs": [],
   "source": [
    "missions = sdk.missions.search(\n",
    "  filter={\n",
    "    'project': {'$eq': my_project.id},\n",
    "  }\n",
    ")\n",
    "\n",
    "for m in missions:\n",
    "  print(m.name, m.id, m.creation_date)\n",
    "\n",
    "missions[0].__dict__"
   ]
  },
  {
   "cell_type": "markdown",
   "metadata": {},
   "source": [
    "### Search datasets in your project / mission"
   ]
  },
  {
   "cell_type": "code",
   "execution_count": null,
   "metadata": {},
   "outputs": [],
   "source": [
    "lst_datasets = sdk.datasets.search(\n",
    "  filter={\n",
    "    'project': {'$eq': pid},\n",
    "    'mission': {'$eq': mid},\n",
    "  }\n",
    ")\n",
    "\n",
    "print(len(lst_datasets))"
   ]
  },
  {
   "cell_type": "markdown",
   "metadata": {},
   "source": [
    "### List datasets with their name, type, source, categories and ingestio status"
   ]
  },
  {
   "cell_type": "code",
   "execution_count": null,
   "metadata": {},
   "outputs": [],
   "source": [
    "for d in lst_datasets:\n",
    "  print(d.name, d.id, d.type, d.source, d.categories, d.ingestion['status'])"
   ]
  },
  {
   "cell_type": "markdown",
   "metadata": {},
   "source": [
    "### Describe the vector dataset"
   ]
  },
  {
   "cell_type": "code",
   "execution_count": null,
   "metadata": {},
   "outputs": [],
   "source": [
    "vct_id = 'vct_id'\n",
    "vct = sdk.datasets.describe(vct_id)"
   ]
  },
  {
   "cell_type": "markdown",
   "metadata": {},
   "source": [
    "### Search an annotation"
   ]
  },
  {
   "cell_type": "code",
   "execution_count": null,
   "metadata": {},
   "outputs": [],
   "source": [
    "# Set variable\n",
    "project_id = \"PROJECT_ID\"\n",
    "mission_id = \"MISSION_ID\"\n",
    "\n",
    "# At project level\n",
    "lst_annotations = sdk.annotations.search(\n",
    "    project=project_id\n",
    ")\n",
    "\n",
    "# At mission level\n",
    "lst_annotations = sdk.annotations.search(\n",
    "    filter={\n",
    "        'project': {'$eq': project_id},\n",
    "        'mission': {'$eq': mission_id}\n",
    "    }\n",
    ")"
   ]
  }
 ],
 "metadata": {
  "kernelspec": {
   "display_name": "Python 3 (ipykernel)",
   "language": "python",
   "name": "python3"
  },
  "language_info": {
   "codemirror_mode": {
    "name": "ipython",
    "version": 3
   },
   "file_extension": ".py",
   "mimetype": "text/x-python",
   "name": "python",
   "nbconvert_exporter": "python",
   "pygments_lexer": "ipython3",
   "version": "3.8.11"
  }
 },
 "nbformat": 4,
 "nbformat_minor": 2
}
