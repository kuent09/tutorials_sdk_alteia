{
 "cells": [
  {
   "cell_type": "markdown",
   "metadata": {},
   "source": [
    "# Datasets\n",
    "\n",
    "In this notebook, you will be guided to :\n",
    "- Search your **project** and describe it\n",
    "- Search your **mission** and describe it\n",
    "- Search your **datasets** and describe them\n",
    "- Display the particularity of vector dataset\n",
    "- Search an **annotation**\n",
    "- Launch an **analytic**"
   ]
  },
  {
   "cell_type": "markdown",
   "metadata": {},
   "source": [
    "#### You may execute this notebook one cell after the other with `Shift + Enter`"
   ]
  },
  {
   "cell_type": "markdown",
   "metadata": {},
   "source": [
    "For more options, explore `Cell` in the top menu bar, or read a [tutorial](https://www.dataquest.io/blog/jupyter-notebook-tutorial/)"
   ]
  },
  {
   "cell_type": "code",
   "execution_count": null,
   "metadata": {},
   "outputs": [],
   "source": [
    "import os\n",
    "import alteia\n",
    "import time"
   ]
  },
  {
   "cell_type": "code",
   "execution_count": null,
   "metadata": {},
   "outputs": [],
   "source": [
    "import getpass\n",
    "platform_url = 'https://app.alteia.com'\n",
    "login = input('Enter your email ')\n",
    "password = getpass.getpass('Enter your password ')"
   ]
  },
  {
   "cell_type": "code",
   "execution_count": null,
   "metadata": {},
   "outputs": [],
   "source": [
    "sdk = alteia.SDK(url=platform_url, user=login, password=password)"
   ]
  },
  {
   "cell_type": "code",
   "execution_count": null,
   "metadata": {},
   "outputs": [],
   "source": [
    "# Set working directory\n",
    "sample_path = './Banana'\n",
    "%cd {sample_path}"
   ]
  },
  {
   "cell_type": "markdown",
   "metadata": {},
   "source": [
    "# Exercices"
   ]
  },
  {
   "cell_type": "markdown",
   "metadata": {},
   "source": [
    "### Get your company id"
   ]
  },
  {
   "cell_type": "code",
   "execution_count": null,
   "metadata": {},
   "outputs": [],
   "source": [
    "company_id = sdk.users.describe().companies[0]['id']\n",
    "print(f\"My company id is: {company_id}\")"
   ]
  },
  {
   "cell_type": "markdown",
   "metadata": {},
   "source": [
    "### Search your project"
   ]
  },
  {
   "cell_type": "code",
   "execution_count": 66,
   "metadata": {},
   "outputs": [],
   "source": [
    "input(project_name) ### Add your project name\n",
    "lst_proj = sdk.projects.search(\n",
    "    filter={\n",
    "        'company': {'$eq': company_id},\n",
    "        'name': {'$eq': project_name}\n",
    "    }\n",
    ")"
   ]
  },
  {
   "cell_type": "markdown",
   "metadata": {},
   "source": [
    "### Describe it and search creation date"
   ]
  },
  {
   "cell_type": "code",
   "execution_count": null,
   "metadata": {},
   "outputs": [],
   "source": [
    "my_project = lst_proj[0]\n",
    "my_project.__dict__\n",
    "my_project.created"
   ]
  },
  {
   "cell_type": "markdown",
   "metadata": {},
   "source": [
    "### Search mission in your project"
   ]
  },
  {
   "cell_type": "code",
   "execution_count": null,
   "metadata": {},
   "outputs": [],
   "source": [
    "missions = sdk.missions.search(\n",
    "  filter={\n",
    "    'project': {'$eq': my_project.id},\n",
    "  }\n",
    ")\n",
    "\n",
    "for m in missions:\n",
    "  print(m.name, m.id, m.creation_date)\n",
    "\n",
    "missions[0].__dict__\n",
    "my_mission = missions[0]"
   ]
  },
  {
   "cell_type": "markdown",
   "metadata": {},
   "source": [
    "### Search datasets in your project / mission"
   ]
  },
  {
   "cell_type": "code",
   "execution_count": null,
   "metadata": {},
   "outputs": [],
   "source": [
    "lst_datasets = sdk.datasets.search(\n",
    "  filter={\n",
    "    'project': {'$eq': my_project.id},\n",
    "    'mission': {'$eq': my_mission.id},\n",
    "  }\n",
    ")\n",
    "\n",
    "print(len(lst_datasets))"
   ]
  },
  {
   "cell_type": "markdown",
   "metadata": {},
   "source": [
    "### List datasets with their name, type, source, categories and ingestio status"
   ]
  },
  {
   "cell_type": "code",
   "execution_count": null,
   "metadata": {},
   "outputs": [],
   "source": [
    "for d in lst_datasets:\n",
    "  print(d.name, d.id, d.type, d.source, d.categories, d.ingestion['status'])"
   ]
  },
  {
   "cell_type": "markdown",
   "metadata": {},
   "source": [
    "### Describe the vector dataset"
   ]
  },
  {
   "cell_type": "code",
   "execution_count": null,
   "metadata": {},
   "outputs": [],
   "source": [
    "vct_id = '65b9216b2a7f24ad6a55c53c'\n",
    "vct = sdk.datasets.describe(vct_id)"
   ]
  },
  {
   "cell_type": "markdown",
   "metadata": {},
   "source": [
    "### Search an annotation"
   ]
  },
  {
   "cell_type": "code",
   "execution_count": null,
   "metadata": {},
   "outputs": [],
   "source": [
    "\n",
    "# At project level\n",
    "lst_annotations = sdk.annotations.search(\n",
    "    project=my_project.id\n",
    ")\n",
    "print(f'Project annotation number: {len(lst_annotations)}')\n",
    "# At mission level\n",
    "lst_annotations = sdk.annotations.search(\n",
    "    filter={\n",
    "        'project': {'$eq': my_project.id},\n",
    "        'mission': {'$eq': my_mission.id}\n",
    "    }\n",
    ")\n",
    "print(f'Project and mission annotation number: {len(lst_annotations)}')"
   ]
  },
  {
   "cell_type": "markdown",
   "metadata": {},
   "source": [
    "## Launch an analytic"
   ]
  },
  {
   "cell_type": "code",
   "execution_count": null,
   "metadata": {},
   "outputs": [],
   "source": [
    "# Upload the vector Maison\n",
    "vector_dataset = sdk.datasets.create_vector_dataset(\n",
    "    name='Maison',\n",
    "    project=my_project.id,\n",
    "    mission=my_mission.id,\n",
    "    dataset_format='geojson')\n",
    "\n",
    "sdk.datasets.upload_file(\n",
    "  dataset=vector_dataset.id,\n",
    "  component='vector',\n",
    "  file_path='../Maison.geojson')\n"
   ]
  },
  {
   "cell_type": "code",
   "execution_count": null,
   "metadata": {},
   "outputs": [],
   "source": [
    "# Waiting for ingestion\n",
    "while vector_dataset.ingestion['status'] != 'completed':\n",
    "    vector_dataset = sdk.datasets.describe(vector_dataset.id)\n",
    "    time.sleep(10)\n",
    "    print(\"Waiting for ingestion... 10s\")\n",
    "print(f'Ingestion completed, vector id is: {vector_dataset.id}')"
   ]
  },
  {
   "cell_type": "code",
   "execution_count": null,
   "metadata": {},
   "outputs": [],
   "source": [
    "# Search for orthomosaic\n",
    "orthomosaic = sdk.datasets.search(\n",
    "  filter={\n",
    "    'project': {'$eq': my_project.id},\n",
    "    'mission': {'$eq': my_mission.id},\n",
    "    'name': {'$eq': 'Orthomosaic'},\n",
    "    'categories': {'$in': ['orthomosaic']},\n",
    "  }\n",
    ")\n",
    "\n",
    "if len(orthomosaic) == 1:\n",
    "    orthomosaic = orthomosaic[0]\n",
    "    print(f'Orthomais id is: {orthomosaic.id}')\n",
    "else:\n",
    "    print('Too many orthomosaic..., quit')"
   ]
  },
  {
   "cell_type": "code",
   "execution_count": null,
   "metadata": {},
   "outputs": [],
   "source": [
    "# Launch the analytic\n",
    "analytic = sdk.analytics.order(\n",
    "    analytic='651294c21e362ddf74a0e605', # raster crop\n",
    "    inputs={\n",
    "        'raster': [orthomosaic.id],\n",
    "        'aoi': [vector_dataset.id]\n",
    "    },\n",
    "    parameters={\n",
    "        'suffix': 'Maison_buffer',\n",
    "        'buffer': -10.0,\n",
    "    },\n",
    "    project=my_project.id,\n",
    "    mission=my_mission.id\n",
    ")\n",
    "print('Analytic launched...')"
   ]
  },
  {
   "cell_type": "code",
   "execution_count": null,
   "metadata": {},
   "outputs": [],
   "source": [
    "raster_crop = sdk.products.describe(analytic.id)\n",
    "print(f'Raster crop deliverable is {raster_crop.deliverables}')"
   ]
  }
 ],
 "metadata": {
  "kernelspec": {
   "display_name": "Python 3 (ipykernel)",
   "language": "python",
   "name": "python3"
  },
  "language_info": {
   "codemirror_mode": {
    "name": "ipython",
    "version": 3
   },
   "file_extension": ".py",
   "mimetype": "text/x-python",
   "name": "python",
   "nbconvert_exporter": "python",
   "pygments_lexer": "ipython3",
   "version": "3.10.13"
  }
 },
 "nbformat": 4,
 "nbformat_minor": 2
}
