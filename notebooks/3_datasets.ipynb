{
 "cells": [
  {
   "cell_type": "markdown",
   "metadata": {},
   "source": [
    "# Datasets\n",
    "\n",
    "In this notebook, you will be guided to :\n",
    "- Create and upload **datasets** (image, rasters, point cloud, mesh, vector and file)\n",
    "- Create an **annotation**"
   ]
  },
  {
   "cell_type": "markdown",
   "metadata": {},
   "source": [
    "#### You may execute this notebook one cell after the other with `Shift + Enter`"
   ]
  },
  {
   "cell_type": "markdown",
   "metadata": {},
   "source": [
    "For more options, explore `Cell` in the top menu bar, or read a [tutorial](https://www.dataquest.io/blog/jupyter-notebook-tutorial/)"
   ]
  },
  {
   "cell_type": "code",
   "execution_count": 1,
   "metadata": {},
   "outputs": [],
   "source": [
    "import os\n",
    "import alteia"
   ]
  },
  {
   "cell_type": "code",
   "execution_count": 2,
   "metadata": {},
   "outputs": [],
   "source": [
    "import getpass\n",
    "platform_url = 'https://app.alteia.com'\n",
    "login = input('Enter your email ')\n",
    "password = getpass.getpass('Enter your password ')"
   ]
  },
  {
   "cell_type": "code",
   "execution_count": 3,
   "metadata": {},
   "outputs": [],
   "source": [
    "sdk = alteia.SDK(url=platform_url, user=login, password=password)"
   ]
  },
  {
   "cell_type": "markdown",
   "metadata": {},
   "source": [
    "# Create the raster datasets"
   ]
  },
  {
   "cell_type": "markdown",
   "metadata": {},
   "source": [
    "## Orthomosaic"
   ]
  },
  {
   "cell_type": "code",
   "execution_count": 48,
   "metadata": {},
   "outputs": [],
   "source": [
    "ortho_dataset = sdk.datasets.create_raster_dataset(\n",
    "  name='Orthomosaic',\n",
    "  project=my_project.id,\n",
    "  mission=my_mission.id,\n",
    "  dataset_format='geotiff',\n",
    "  categories=['orthomosaic'])\n",
    "\n",
    "sdk.datasets.upload_file(\n",
    "  dataset=ortho_dataset.id,\n",
    "  component='raster',\n",
    "  file_path='Orthomosaic.tif')"
   ]
  },
  {
   "cell_type": "markdown",
   "metadata": {},
   "source": [
    "## DSM (Digital Surface Model)"
   ]
  },
  {
   "cell_type": "code",
   "execution_count": null,
   "metadata": {},
   "outputs": [],
   "source": [
    "dsm_dataset = sdk.datasets.create_raster_dataset(\n",
    "  name='DSM',\n",
    "  project=my_project.id,\n",
    "  mission=my_mission.id,\n",
    "  dataset_format='geotiff',\n",
    "  categories=['dsm'])\n",
    "\n",
    "sdk.datasets.upload_file(\n",
    "  dataset=dsm_dataset.id,\n",
    "  component='raster',\n",
    "  file_path='DSM.tif')"
   ]
  },
  {
   "cell_type": "markdown",
   "metadata": {},
   "source": [
    "# Create the point cloud dataset"
   ]
  },
  {
   "cell_type": "code",
   "execution_count": null,
   "metadata": {},
   "outputs": [],
   "source": [
    "pcl_dataset = sdk.datasets.create_pcl_dataset(\n",
    "  name='PointCloud',\n",
    "  project=my_project.id,\n",
    "  mission=my_mission.id,\n",
    "  dataset_format='las')\n",
    "\n",
    "sdk.datasets.upload_file(\n",
    "  dataset=pcl_dataset.id,\n",
    "  component='pcl',\n",
    "  file_path='Point Cloud.las')"
   ]
  },
  {
   "cell_type": "markdown",
   "metadata": {},
   "source": [
    "# Create the mesh dataset"
   ]
  },
  {
   "cell_type": "code",
   "execution_count": null,
   "metadata": {},
   "outputs": [],
   "source": [
    "mesh_dataset = sdk.datasets.create_mesh_dataset(\n",
    "  name='Mesh',\n",
    "  project=my_project.id,\n",
    "  mission=my_mission.id,\n",
    "  dataset_format='obj',\n",
    "  texture_count=1)\n",
    "\n",
    "sdk.datasets.upload_file(\n",
    "  dataset=mesh_dataset.id,\n",
    "  component='mesh',\n",
    "  file_path='Model.obj')\n",
    "\n",
    "sdk.datasets.upload_file(\n",
    "  dataset=mesh_dataset.id,\n",
    "  component='material',\n",
    "  file_path='Model.mtl')\n",
    "\n",
    "sdk.datasets.upload_file(\n",
    "  dataset=mesh_dataset.id,\n",
    "  component='texture',\n",
    "  file_path='Model_0.jpg')"
   ]
  },
  {
   "cell_type": "markdown",
   "metadata": {},
   "source": [
    "# Create the vector dataset"
   ]
  },
  {
   "cell_type": "code",
   "execution_count": null,
   "metadata": {},
   "outputs": [],
   "source": [
    "vector_dataset = sdk.datasets.create_vector_dataset(\n",
    "    name='ContoursLines',\n",
    "    project=my_project.id,\n",
    "    mission=my_mission.id,\n",
    "    dataset_format='geojson')\n",
    "\n",
    "sdk.datasets.upload_file(\n",
    "  dataset=vector_dataset.id,\n",
    "  component='vector',\n",
    "  file_path='Contours.geojson')"
   ]
  },
  {
   "cell_type": "markdown",
   "metadata": {},
   "source": [
    "# Create an annotation"
   ]
  },
  {
   "cell_type": "code",
   "execution_count": null,
   "metadata": {},
   "outputs": [],
   "source": [
    "my_annotation = sdk.annotations.create(\n",
    "   project=my_project.id,\n",
    "   mission=my_mission.id,\n",
    "   geometry={\n",
    "       \"type\": \"Point\",\n",
    "       \"coordinates\": [12.397626065125216, -6.001589143208957]\n",
    "   },\n",
    "   name='New annotation',\n",
    "   type='2d',\n",
    "   icon=sdk.annotations.Icons.CONVEYOR\n",
    ")"
   ]
  }
 ],
 "metadata": {
  "kernelspec": {
   "display_name": "Python 3 (ipykernel)",
   "language": "python",
   "name": "python3"
  },
  "language_info": {
   "codemirror_mode": {
    "name": "ipython",
    "version": 3
   },
   "file_extension": ".py",
   "mimetype": "text/x-python",
   "name": "python",
   "nbconvert_exporter": "python",
   "pygments_lexer": "ipython3",
   "version": "3.8.11"
  }
 },
 "nbformat": 4,
 "nbformat_minor": 2
}
