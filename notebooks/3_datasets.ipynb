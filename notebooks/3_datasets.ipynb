{
 "cells": [
  {
   "cell_type": "markdown",
   "metadata": {},
   "source": [
    "# Datasets\n",
    "\n",
    "In this notebook, you will be guided to :\n",
    "- Create and upload **datasets** (image, rasters, point cloud, mesh, vector and file)\n",
    "- Create an **annotation**"
   ]
  },
  {
   "cell_type": "markdown",
   "metadata": {},
   "source": [
    "#### You may execute this notebook one cell after the other with `Shift + Enter`"
   ]
  },
  {
   "cell_type": "markdown",
   "metadata": {},
   "source": [
    "For more options, explore `Cell` in the top menu bar, or read a [tutorial](https://www.dataquest.io/blog/jupyter-notebook-tutorial/)"
   ]
  },
  {
   "cell_type": "code",
   "execution_count": null,
   "metadata": {},
   "outputs": [],
   "source": [
    "import os\n",
    "import alteia"
   ]
  },
  {
   "cell_type": "code",
   "execution_count": null,
   "metadata": {},
   "outputs": [],
   "source": [
    "import getpass\n",
    "platform_url = 'https://app.alteia.com'\n",
    "login = input('Enter your email ')\n",
    "password = getpass.getpass('Enter your password ')"
   ]
  },
  {
   "cell_type": "code",
   "execution_count": null,
   "metadata": {},
   "outputs": [],
   "source": [
    "sdk = alteia.SDK(url=platform_url, user=login, password=password)\n",
    "\n",
    "my_project_id = '65b91245e98f3bab050e2010'\n",
    "my_mission_id = '65b91530470dd8efd8cd76c7'"
   ]
  },
  {
   "cell_type": "code",
   "execution_count": null,
   "metadata": {},
   "outputs": [],
   "source": [
    "# Set working directory\n",
    "sample_path = './Banana'\n",
    "%cd {sample_path}"
   ]
  },
  {
   "cell_type": "markdown",
   "metadata": {},
   "source": [
    "## Create the raster datasets"
   ]
  },
  {
   "cell_type": "markdown",
   "metadata": {},
   "source": [
    "### Orthomosaic"
   ]
  },
  {
   "cell_type": "code",
   "execution_count": null,
   "metadata": {},
   "outputs": [],
   "source": [
    "ortho_dataset = sdk.datasets.create_raster_dataset(\n",
    "  name='Orthomosaic',\n",
    "  project=my_project_id,\n",
    "  mission=my_mission_id,\n",
    "  dataset_format='geotiff',\n",
    "  categories=['orthomosaic'])\n",
    "\n",
    "sdk.datasets.upload_file(\n",
    "  dataset=ortho_dataset.id,\n",
    "  component='raster',\n",
    "  file_path='Orthomosaic.tif')"
   ]
  },
  {
   "cell_type": "markdown",
   "metadata": {},
   "source": [
    "### DSM (Digital Surface Model)"
   ]
  },
  {
   "cell_type": "code",
   "execution_count": null,
   "metadata": {},
   "outputs": [],
   "source": [
    "dsm_dataset = sdk.datasets.create_raster_dataset(\n",
    "  name='DSM',\n",
    "  project=my_project_id,\n",
    "  mission=my_mission_id,\n",
    "  dataset_format='geotiff',\n",
    "  categories=['dsm'])\n",
    "\n",
    "sdk.datasets.upload_file(\n",
    "  dataset=dsm_dataset.id,\n",
    "  component='raster',\n",
    "  file_path='DSM.tif')"
   ]
  },
  {
   "cell_type": "markdown",
   "metadata": {},
   "source": [
    "### Create the point cloud dataset"
   ]
  },
  {
   "cell_type": "code",
   "execution_count": null,
   "metadata": {},
   "outputs": [],
   "source": [
    "pcl_dataset = sdk.datasets.create_pcl_dataset(\n",
    "  name='PointCloud',\n",
    "  project=my_project_id,\n",
    "  mission=my_mission_id,\n",
    "  dataset_format='las')\n",
    "\n",
    "sdk.datasets.upload_file(\n",
    "  dataset=pcl_dataset.id,\n",
    "  component='pcl',\n",
    "  file_path='Point Cloud.las')"
   ]
  },
  {
   "cell_type": "markdown",
   "metadata": {},
   "source": [
    "### Create the mesh dataset"
   ]
  },
  {
   "cell_type": "code",
   "execution_count": null,
   "metadata": {},
   "outputs": [],
   "source": [
    "mesh_dataset = sdk.datasets.create_mesh_dataset(\n",
    "  name='Mesh',\n",
    "  project=my_project_id,\n",
    "  mission=my_mission_id,\n",
    "  dataset_format='obj',\n",
    "  texture_count=1)\n",
    "\n",
    "sdk.datasets.upload_file(\n",
    "  dataset=mesh_dataset.id,\n",
    "  component='mesh',\n",
    "  file_path='Model.obj')\n",
    "\n",
    "sdk.datasets.upload_file(\n",
    "  dataset=mesh_dataset.id,\n",
    "  component='material',\n",
    "  file_path='Model.mtl')\n",
    "\n",
    "sdk.datasets.upload_file(\n",
    "  dataset=mesh_dataset.id,\n",
    "  component='texture',\n",
    "  file_path='Model_0.jpg')"
   ]
  },
  {
   "cell_type": "markdown",
   "metadata": {},
   "source": [
    "### Create the vector dataset"
   ]
  },
  {
   "cell_type": "code",
   "execution_count": null,
   "metadata": {},
   "outputs": [],
   "source": [
    "vector_dataset = sdk.datasets.create_vector_dataset(\n",
    "    name='ContoursLines',\n",
    "    project=my_project_id,\n",
    "    mission=my_mission_id,\n",
    "    dataset_format='geojson')\n",
    "\n",
    "sdk.datasets.upload_file(\n",
    "  dataset=vector_dataset.id,\n",
    "  component='vector',\n",
    "  file_path='Contours.geojson')"
   ]
  },
  {
   "cell_type": "code",
   "execution_count": null,
   "metadata": {},
   "outputs": [],
   "source": [
    "vector_dataset_ing = sdk.datasets.describe(vector_dataset.id)\n",
    "vector_dataset_ing.__dict__"
   ]
  },
  {
   "cell_type": "code",
   "execution_count": null,
   "metadata": {},
   "outputs": [],
   "source": [
    "# Add category\n",
    "sdk.datasets.add_categories(vector_dataset_ing.id, categories=['contour lines'])"
   ]
  },
  {
   "cell_type": "markdown",
   "metadata": {},
   "source": [
    "#### Now, we can see the specificity of type vector"
   ]
  },
  {
   "cell_type": "code",
   "execution_count": null,
   "metadata": {},
   "outputs": [],
   "source": [
    "# Search vector dataset on your project / mission\n",
    "lst_vct = sdk.datasets.search(\n",
    "    filter={\n",
    "        'project': {'$eq': my_project_id},\n",
    "        'mission': {'$eq': my_mission_id},\n",
    "        'type': {'$eq': 'vector'},\n",
    "        'ingestion.status': {'$eq': 'completed'}\n",
    "    }\n",
    ")\n",
    "for vct in lst_vct:\n",
    "    print(f'Dataset vector with id {vct.id} and name {vct.name} has a source {vct.source[\"name\"]}')"
   ]
  },
  {
   "cell_type": "code",
   "execution_count": null,
   "metadata": {},
   "outputs": [],
   "source": [
    "# There is another solution to find the map-service dataset\n",
    "vector_dataset_mp = sdk.datasets.search(\n",
    "    filter={\n",
    "        \"components.origin.id\": {\n",
    "            \"$eq\": vector_dataset_ing.id}\n",
    "    }\n",
    ")\n",
    "vector_dataset_mp = vector_dataset_mp[0]\n",
    "vector_dataset_mp.__dict__"
   ]
  },
  {
   "cell_type": "code",
   "execution_count": null,
   "metadata": {},
   "outputs": [],
   "source": [
    "# Add category\n",
    "sdk.datasets.add_categories(vector_dataset_mp.id, categories=['contour lines'])\n",
    "# Get the collection to get the features\n",
    "vector_dataset_mp.components"
   ]
  },
  {
   "cell_type": "code",
   "execution_count": null,
   "metadata": {},
   "outputs": [],
   "source": [
    "collection_id = vector_dataset_mp.components[0]['collection']['id']\n",
    "print(collection_id)\n",
    "collection = sdk.collections.describe(collection_id)\n",
    "collection.__dict__"
   ]
  },
  {
   "cell_type": "code",
   "execution_count": null,
   "metadata": {},
   "outputs": [],
   "source": [
    "collection.feature_count"
   ]
  },
  {
   "cell_type": "code",
   "execution_count": null,
   "metadata": {},
   "outputs": [],
   "source": [
    "lst_features_id = collection.features"
   ]
  },
  {
   "cell_type": "code",
   "execution_count": null,
   "metadata": {},
   "outputs": [],
   "source": [
    "for f in lst_features_id:\n",
    "    feat = sdk.features.describe(f)\n",
    "    properties = feat.properties\n",
    "    geom = feat.geometry\n",
    "    break\n",
    "print(properties)\n",
    "print(geom)"
   ]
  },
  {
   "cell_type": "markdown",
   "metadata": {},
   "source": [
    "### Create an annotation"
   ]
  },
  {
   "cell_type": "code",
   "execution_count": 56,
   "metadata": {},
   "outputs": [],
   "source": [
    "my_annotation = sdk.annotations.create(\n",
    "   project=my_project_id,\n",
    "   mission=my_mission_id,\n",
    "   geometry={\n",
    "       \"type\": \"Point\",\n",
    "       \"coordinates\": [12.397626065125216, -6.001589143208957]\n",
    "   },\n",
    "   name='Annotation_4.0',\n",
    "   type='2d',\n",
    "   icon=sdk.annotations.Icons.CONVEYOR\n",
    ")"
   ]
  },
  {
   "cell_type": "markdown",
   "metadata": {},
   "source": [
    "### Create an annotation with an image attached"
   ]
  },
  {
   "cell_type": "code",
   "execution_count": 57,
   "metadata": {},
   "outputs": [],
   "source": [
    "default_horizontal_srs_wkt = 'GEOGCS[\"WGS 84\",DATUM[\"WGS_1984\",SPHEROID[\"WGS 84\",6378137,298.257223563,AUTHORITY\\\n",
    "[\"EPSG\",\"7030\"]],AUTHORITY[\"EPSG\",\"6326\"]],PRIMEM[\"Greenwich\",0,AUTHORITY[\"EPSG\",\"8901\"]],\\\n",
    "UNIT[\"degree\",0.01745329251994328,AUTHORITY[\"EPSG\",\"9122\"]],AUTHORITY[\"EPSG\",\"4326\"]]'"
   ]
  },
  {
   "cell_type": "code",
   "execution_count": 59,
   "metadata": {},
   "outputs": [],
   "source": [
    "image_ann_dataset = sdk.datasets.create_image_dataset(\n",
    "  name='00001504',\n",
    "  project=my_project_id,\n",
    "  mission=my_mission_id,\n",
    "  geometry={\"type\": \"Point\",\n",
    "            \"coordinates\": [12.39829438, -6.00186998]},\n",
    "  horizontal_srs_wkt=default_horizontal_srs_wkt,\n",
    "  width=2448,\n",
    "  height=2048\n",
    ")"
   ]
  },
  {
   "cell_type": "code",
   "execution_count": 60,
   "metadata": {},
   "outputs": [],
   "source": [
    "sdk.datasets.upload_file(\n",
    "  dataset=image_ann_dataset.id,\n",
    "  component='image',\n",
    "  file_path='00001504.jpg')"
   ]
  },
  {
   "cell_type": "code",
   "execution_count": 62,
   "metadata": {},
   "outputs": [],
   "source": [
    "my_annotation = sdk.annotations.create(\n",
    "   project=my_project_id,\n",
    "   mission=my_mission_id,\n",
    "   geometry={\n",
    "       \"type\": \"Point\",\n",
    "       \"coordinates\": [12.39829438, -6.00186998]\n",
    "   },\n",
    "   name='Annotation_4.0_img_v2',\n",
    "   attachments=[image_ann_dataset.id],\n",
    "   type='2d',\n",
    "   icon=sdk.annotations.Icons.PARKING\n",
    ")"
   ]
  }
 ],
 "metadata": {
  "kernelspec": {
   "display_name": "Python 3 (ipykernel)",
   "language": "python",
   "name": "python3"
  },
  "language_info": {
   "codemirror_mode": {
    "name": "ipython",
    "version": 3
   },
   "file_extension": ".py",
   "mimetype": "text/x-python",
   "name": "python",
   "nbconvert_exporter": "python",
   "pygments_lexer": "ipython3",
   "version": "3.10.13"
  }
 },
 "nbformat": 4,
 "nbformat_minor": 2
}
